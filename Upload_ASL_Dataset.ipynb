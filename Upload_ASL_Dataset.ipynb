{
  "nbformat": 4,
  "nbformat_minor": 0,
  "metadata": {
    "colab": {
      "provenance": [],
      "authorship_tag": "ABX9TyMkHwSwFmC18wdQUDXlrfdE",
      "include_colab_link": true
    },
    "kernelspec": {
      "name": "python3",
      "display_name": "Python 3"
    },
    "language_info": {
      "name": "python"
    }
  },
  "cells": [
    {
      "cell_type": "markdown",
      "metadata": {
        "id": "view-in-github",
        "colab_type": "text"
      },
      "source": [
        "<a href=\"https://colab.research.google.com/github/dyllanesl/AI-EDGE-Project/blob/main/Upload_ASL_Dataset.ipynb\" target=\"_parent\"><img src=\"https://colab.research.google.com/assets/colab-badge.svg\" alt=\"Open In Colab\"/></a>"
      ]
    },
    {
      "cell_type": "markdown",
      "source": [
        "#Preparing and Uploading a Dataset\n",
        "Requirements:\n",
        "1. CSV File already filled out with label and filename\n",
        "2. A dataset already uploaded to huggingface\n"
      ],
      "metadata": {
        "id": "ME_QTjQv0BOD"
      }
    },
    {
      "cell_type": "code",
      "source": [
        "!pip install datasets"
      ],
      "metadata": {
        "id": "7ca-wb3p64v9"
      },
      "execution_count": null,
      "outputs": []
    },
    {
      "cell_type": "code",
      "source": [
        "# Convert the dataset to a pandas DataFrame\n",
        "# Load the CSV file with labels\n",
        "from google.colab import files\n",
        "import pandas as pd\n",
        "\n",
        "# Upload the CSV file\n",
        "uploaded = files.upload()\n",
        "\n",
        "csv_filename = list(uploaded.keys())[0]\n",
        "\n",
        "labels_df = pd.read_csv(\"ASL_Sheet.csv\")"
      ],
      "metadata": {
        "id": "8B5gYhUt7bb-"
      },
      "execution_count": null,
      "outputs": []
    },
    {
      "cell_type": "code",
      "source": [
        "#Pull images from Hugging Face\n",
        "from datasets import load_dataset\n",
        "\n",
        "# Load the dataset\n",
        "dataset = load_dataset(\"dyllanesl/Fruit_Images\")\n",
        "\n",
        "print(dataset)\n",
        "print(dataset[\"train\"][0])"
      ],
      "metadata": {
        "id": "kaxuz9E37dEA"
      },
      "execution_count": null,
      "outputs": []
    },
    {
      "cell_type": "code",
      "source": [
        "#Test dataset\n",
        "#Import io and PIL\n",
        "from io import BytesIO\n",
        "from PIL import Image\n",
        "\n",
        "#Print the first item in the dataset\n",
        "image = dataset[\"train\"][0]['image']\n",
        "image\n",
        "\n",
        "#display\n",
        "labels_df['label']"
      ],
      "metadata": {
        "id": "kLWPhL077f0X"
      },
      "execution_count": null,
      "outputs": []
    },
    {
      "cell_type": "code",
      "source": [
        "#Logging in\n",
        "from google.colab import userdata\n",
        "from huggingface_hub import login\n",
        "login(token = userdata.get('ASL_Token'))"
      ],
      "metadata": {
        "id": "RR4Ntdz67hhH"
      },
      "execution_count": null,
      "outputs": []
    },
    {
      "cell_type": "code",
      "source": [
        "print(Dataset.from_dict({'image': dataset[\"train\"]['image'], 'label': labels_df['label']})\n",
        ")"
      ],
      "metadata": {
        "id": "aCt26Tzg7j5Z"
      },
      "execution_count": null,
      "outputs": []
    },
    {
      "cell_type": "code",
      "source": [
        "from datasets import Dataset\n",
        "#combine the images with the labels\n",
        "image_dataset = Dataset.from_dict({'image': dataset[\"train\"]['image'], 'label': labels_df['label']})\n",
        "#Display\n",
        "image_dataset"
      ],
      "metadata": {
        "id": "XwHi6Dyp7lqs"
      },
      "execution_count": null,
      "outputs": []
    },
    {
      "cell_type": "code",
      "source": [
        "#Send it to huggingface\n",
        "image_dataset.push_to_hub(\"dyllanesl/Fruit_Dataset\")"
      ],
      "metadata": {
        "id": "MKFwX2nA7nSR"
      },
      "execution_count": null,
      "outputs": []
    }
  ]
}