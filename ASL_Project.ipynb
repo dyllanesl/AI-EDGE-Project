{
  "nbformat": 4,
  "nbformat_minor": 0,
  "metadata": {
    "colab": {
      "provenance": [],
      "gpuType": "T4",
      "include_colab_link": true
    },
    "kernelspec": {
      "name": "python3",
      "display_name": "Python 3"
    },
    "language_info": {
      "name": "python"
    },
    "accelerator": "GPU"
  },
  "cells": [
    {
      "cell_type": "markdown",
      "metadata": {
        "id": "view-in-github",
        "colab_type": "text"
      },
      "source": [
        "<a href=\"https://colab.research.google.com/github/dyllanesl/AI-EDGE-Project/blob/main/ASL_Project.ipynb\" target=\"_parent\"><img src=\"https://colab.research.google.com/assets/colab-badge.svg\" alt=\"Open In Colab\"/></a>"
      ]
    },
    {
      "cell_type": "markdown",
      "source": [
        "#Restart Runtime\n",
        "Quick way to restart the runtime"
      ],
      "metadata": {
        "id": "xAnwX2U5cPPM"
      }
    },
    {
      "cell_type": "code",
      "execution_count": null,
      "metadata": {
        "id": "T3In94qSlxvn"
      },
      "outputs": [],
      "source": [
        "import os\n",
        "os._exit(00)\n",
        "\n"
      ]
    },
    {
      "cell_type": "markdown",
      "source": [
        "#Install dependencies\n",
        "Install dependices and necessary libaries"
      ],
      "metadata": {
        "id": "suGwssg_foLz"
      }
    },
    {
      "cell_type": "code",
      "source": [
        "# Install essential libraries\n",
        "!pip install torch==2.3.0 torchvision==0.18.1\n",
        "!pip install diffusers transformers datasets accelerate\n",
        "!pip install mediapipe opencv-python\n",
        "\n",
        "# Download the Mediapipe hand landmarker model\n",
        "!wget -q https://storage.googleapis.com/mediapipe-models/hand_landmarker/hand_landmarker/float16/1/hand_landmarker.task\n"
      ],
      "metadata": {
        "id": "DCCHNjqbb6hZ"
      },
      "execution_count": null,
      "outputs": []
    },
    {
      "cell_type": "markdown",
      "source": [
        "#Load Specific pre-trained diffusion model\n",
        "From hugging Face Model Hub , this provides an easy way to load and interact with pre-trained diffusion models. Here in this cell specifically we load the pre-trained model: Cite:@InProceedings{Rombach_2022_CVPR,\n",
        "    author    = {Rombach, Robin and Blattmann, Andreas and Lorenz, Dominik and Esser, Patrick and Ommer, Bj\\\"orn},\n",
        "    title     = {High-Resolution Image Synthesis With Latent Diffusion Models},\n",
        "    booktitle = {Proceedings of the IEEE/CVF Conference on Computer Vision and Pattern Recognition (CVPR)},\n",
        "    month     = {June},\n",
        "    year      = {2022},\n",
        "    pages     = {10684-10695}\n",
        "}\n"
      ],
      "metadata": {
        "id": "cBN4ANSyjccm"
      }
    },
    {
      "cell_type": "code",
      "source": [
        "from diffusers import DiffusionPipeline\n",
        "\n",
        "# Load the pre-trained model\n",
        "pipeline = DiffusionPipeline.from_pretrained(\"radames/stable-diffusion-v1-5-img2img\")\n",
        "pipeline.to(\"cuda\")  # Use GPU if available\n"
      ],
      "metadata": {
        "id": "OAgacUSdjb9h",
        "collapsed": true
      },
      "execution_count": null,
      "outputs": []
    },
    {
      "cell_type": "markdown",
      "source": [
        "#Train Model Here\n",
        "In this cell we upload the data set then unzip file, the load the dataset into a DataFrame to prepare to be trained"
      ],
      "metadata": {
        "id": "NVTXV7FyP3N3"
      }
    },
    {
      "cell_type": "code",
      "source": [
        "import zipfile\n",
        "import pandas as pd\n",
        "import os\n",
        "from google.colab import files\n",
        "\n",
        "uploaded = files.upload()\n",
        "\n",
        "# Define the path to the uploaded zip file\n",
        "zip_path = '/content/AslDS.zip'\n",
        "\n",
        "# Define the extraction path\n",
        "extract_path = '/content/AslDS'\n",
        "\n",
        "# Unzip the dataset\n",
        "with zipfile.ZipFile(zip_path, 'r') as zip_ref:\n",
        "    zip_ref.extractall(extract_path)\n",
        "\n",
        "# List the extracted files to verify\n",
        "os.listdir(extract_path)"
      ],
      "metadata": {
        "id": "AVULhMvMO_fI"
      },
      "execution_count": null,
      "outputs": []
    },
    {
      "cell_type": "code",
      "source": [
        "# Verify the extracted files\n",
        "extracted_files = os.listdir(extract_path)\n",
        "print(\"Extracted files:\", extracted_files)\n"
      ],
      "metadata": {
        "id": "bCEzSIgNkIen"
      },
      "execution_count": null,
      "outputs": []
    },
    {
      "cell_type": "code",
      "source": [
        "import zipfile\n",
        "import pandas as pd\n",
        "import os\n",
        "import random\n",
        "from google.colab import files\n",
        "\n",
        "# Define paths to the dataset and CSV files\n",
        "dataset_path = os.path.join(extract_path, 'dataset')\n",
        "pre_csv_path = os.path.join(extract_path, 'pre_ASL_dataset.csv')\n",
        "post_csv_path = os.path.join(extract_path, 'post_ASL_dataset.csv')\n",
        "\n",
        "# List all images in the dataset directory\n",
        "image_files = [f for f in os.listdir(dataset_path) if os.path.isfile(os.path.join(dataset_path, f))]\n",
        "\n",
        "# Create a DataFrame with the list of images and required parameters\n",
        "new_data = {\n",
        "    'image_path': [os.path.join(dataset_path, img) for img in image_files],\n",
        "    'prompt': \"Generate a clearer ASL sign\",\n",
        "    'ddim_steps': 50,\n",
        "    'plms': False,\n",
        "    'scale': 7.5,\n",
        "    'H': 512,\n",
        "    'W': 512,\n",
        "    'seed': [random.randint(0, 4294967295) for _ in range(len(image_files))]\n",
        "}\n",
        "\n",
        "new_df = pd.DataFrame(new_data)\n",
        "\n",
        "# Function to append new data to existing CSV\n",
        "def append_to_csv(csv_path, new_df):\n",
        "    if os.path.exists(csv_path):\n",
        "        # Load the existing CSV file\n",
        "        df = pd.read_csv(csv_path)\n",
        "        # Append new data to the DataFrame\n",
        "        df = pd.concat([df, new_df], ignore_index=True)\n",
        "    else:\n",
        "        # If the file does not exist, create a new DataFrame\n",
        "        df = new_df\n",
        "    # Save the updated DataFrame back to the CSV file\n",
        "    df.to_csv(csv_path, index=False)\n",
        "    return df\n",
        "\n",
        "# Append new data to pre_ASL_dataset.csv\n",
        "pre_df = append_to_csv(pre_csv_path, new_df)\n",
        "# Append new data to post_ASL_dataset.csv\n",
        "post_df = append_to_csv(post_csv_path, new_df)\n",
        "\n",
        "print(\"Updated pre_ASL_dataset.csv:\")\n",
        "print(pre_df.head())\n",
        "print(\"Updated post_ASL_dataset.csv:\")\n",
        "print(post_df.head())"
      ],
      "metadata": {
        "id": "5Agg3-xosN1E"
      },
      "execution_count": null,
      "outputs": []
    },
    {
      "cell_type": "markdown",
      "source": [],
      "metadata": {
        "id": "fbmZM4vepqiF"
      }
    },
    {
      "cell_type": "code",
      "source": [
        "import os\n",
        "from PIL import Image\n",
        "from diffusers import DiffusionPipeline\n",
        "\n",
        "# Define directories\n",
        "input_dir = os.path.join(extract_path, 'dataset')  # Path to the folder containing images\n",
        "output_dir = \"/content/generated_images\"  # Path to save generated images\n",
        "os.makedirs(output_dir, exist_ok=True)  # Create the output directory if it doesn't exist\n",
        "\n",
        "# Supported image formats\n",
        "supported_formats = (\".png\", \".jpg\", \".jpeg\", \".bmp\", \".gif\")\n",
        "\n",
        "# Iterate over rows in the CSV to generate new images based on existing labels\n",
        "for index, row in df.iterrows():\n",
        "    image_name = row['Image_name']\n",
        "    label = row['label']\n",
        "    input_image_path = os.path.join(input_dir, image_name)\n",
        "\n",
        "    # Skip directories and non-image files\n",
        "    if os.path.isdir(input_image_path) or not image_name.lower().endswith(supported_formats):\n",
        "        continue\n",
        "\n",
        "    try:\n",
        "        input_image = Image.open(input_image_path).convert(\"RGB\")  # Open and convert the image to RGB\n",
        "\n",
        "        # Create a prompt based on the label\n",
        "        prompt = f\"Generate a clearer ASL sign for the letter {label}\"\n",
        "\n",
        "        # Generate an output image using the model\n",
        "        output = pipeline(prompt=prompt, image=input_image)  # Run the image through the pipeline with a prompt\n",
        "        output_image = output.images[0]  # Get the generated image from the output\n",
        "\n",
        "        # Save the output image\n",
        "        output_image_name = f\"generated_{label}_{image_name}\"\n",
        "        output_image_path = os.path.join(output_dir, output_image_name)  # Define the path to save the output image\n",
        "        output_image.save(output_image_path)  # Save the generated image\n",
        "\n",
        "        # Add new entry to the DataFrame\n",
        "        df = df.append({'Image_name': output_image_name, 'label': label}, ignore_index=True)\n",
        "    except Exception as e:\n",
        "        print(f\"Error processing {input_image_path}: {e}\")  # Print any errors encountered during processing\n",
        "\n",
        "# Save the updated DataFrame to the CSV file\n",
        "df.to_csv(csv_path, index=False)\n",
        "\n",
        "# Display the updated DataFrame to verify\n",
        "print(df.head())\n",
        "\n"
      ],
      "metadata": {
        "id": "OuVfUIjXjeRj"
      },
      "execution_count": null,
      "outputs": []
    },
    {
      "cell_type": "code",
      "source": [
        "output_dir = \"/content/generated_images\"\n",
        "generated_images = os.listdir(output_dir)\n",
        "print(\"Generated Images:\", generated_images)\n",
        "import matplotlib.pyplot as plt\n",
        "\n",
        "# Function to display an image\n",
        "def display_image(image_path):\n",
        "    img = Image.open(image_path)\n",
        "    plt.imshow(img)\n",
        "    plt.axis('off')  # Hide axes\n",
        "    plt.show()\n",
        "\n",
        "# Display a specific generated image\n",
        "image_to_display = os.path.join(output_dir, generated_images[0])  # Change index to display a different image\n",
        "display_image(image_to_display)\n"
      ],
      "metadata": {
        "id": "vVPhccMftqm6"
      },
      "execution_count": null,
      "outputs": []
    },
    {
      "cell_type": "code",
      "source": [
        "import matplotlib.pyplot as plt\n",
        "\n",
        "# Display multiple images in a grid\n",
        "def display_images(image_paths, cols=3, rows=3):\n",
        "    fig, axes = plt.subplots(rows, cols, figsize=(15, 15))\n",
        "    for ax, img_path in zip(axes.flatten(), image_paths):\n",
        "        img = Image.open(img_path)\n",
        "        ax.imshow(img)\n",
        "        ax.axis('off')\n",
        "    plt.tight_layout()\n",
        "    plt.show()\n",
        "\n",
        "# Get paths for a few generated images\n",
        "image_paths = [os.path.join(output_dir, img) for img in generated_images[:9]]  # Adjust the number of images as needed\n",
        "display_images(image_paths)"
      ],
      "metadata": {
        "id": "Zjaxn19-uZda"
      },
      "execution_count": null,
      "outputs": []
    },
    {
      "cell_type": "markdown",
      "source": [
        "**Description:** Activates camera and captures images (frames) for the MediaPipe\n",
        "to detect and visualize\n",
        "\n",
        "**Goals:**\n",
        "- Loop function to take a picture every 5 seconds until deactivate\n",
        "  - This would be the constant changing of frames\n",
        "-Implement the capturing of videos to detext ASL letters such as Z\n",
        "\n",
        "**Current functionality:**\n",
        "- Can manually take a screenshot of the image"
      ],
      "metadata": {
        "id": "r48A46FuQ3_s"
      }
    },
    {
      "cell_type": "code",
      "source": [
        "#Activates camera, captures images\n",
        "from IPython.display import display, Javascript\n",
        "from google.colab.output import eval_js\n",
        "from base64 import b64decode\n",
        "\n",
        "#Function to take the actual photo from code snippet\n",
        "def take_photo(filename='photo.jpg', quality=0.8):\n",
        "  js = Javascript('''\n",
        "    async function takePhoto(quality) {\n",
        "      const div = document.createElement('div');\n",
        "      const capture = document.createElement('button');\n",
        "      capture.textContent = 'Capture';\n",
        "      div.appendChild(capture);\n",
        "\n",
        "      const video = document.createElement('video');\n",
        "      video.style.display = 'block';\n",
        "      const stream = await navigator.mediaDevices.getUserMedia({video: true});\n",
        "\n",
        "      document.body.appendChild(div);\n",
        "      div.appendChild(video);\n",
        "      video.srcObject = stream;\n",
        "      await video.play();\n",
        "\n",
        "      // Resize the output to fit the video element.\n",
        "      google.colab.output.setIframeHeight(document.documentElement.scrollHeight, true);\n",
        "\n",
        "      // Wait for Capture to be clicked.\n",
        "      await new Promise((resolve) => capture.onclick = resolve);\n",
        "\n",
        "      const canvas = document.createElement('canvas');\n",
        "      canvas.width = video.videoWidth;\n",
        "      canvas.height = video.videoHeight;\n",
        "      canvas.getContext('2d').drawImage(video, 0, 0);\n",
        "      stream.getVideoTracks()[0].stop();\n",
        "      div.remove();\n",
        "      return canvas.toDataURL('image/jpeg', quality);\n",
        "    }\n",
        "    ''')\n",
        "  display(js)\n",
        "  data = eval_js('takePhoto({})'.format(quality))\n",
        "  binary = b64decode(data.split(',')[1])\n",
        "  with open(filename, 'wb') as f:\n",
        "    f.write(binary)\n",
        "  return filename"
      ],
      "metadata": {
        "collapsed": true,
        "id": "jQhBLHMHO_xv"
      },
      "execution_count": null,
      "outputs": []
    },
    {
      "cell_type": "markdown",
      "source": [
        "Description: Used to Visualize the \"Hand Landmark Detection\" Solution"
      ],
      "metadata": {
        "id": "P8viH6JKZR6A"
      }
    },
    {
      "cell_type": "code",
      "source": [
        "from mediapipe import solutions\n",
        "from mediapipe.framework.formats import landmark_pb2\n",
        "import numpy as np\n",
        "\n",
        "MARGIN = 10 # pixels\n",
        "FONT_SIZE = 1\n",
        "FONT_THICKNESS = 1\n",
        "FONT_COLOR = (88, 205, 54) # RGB formula for vibrant green\n",
        "HANDEDNESS_TEXT_COLOR = (88, 205, 54) # Define HANDEDNESS_TEXT_COLOR\n",
        "\n",
        "\n",
        "def draw_landmarks_on_image(rgb_image, detection_result):\n",
        "  hand_landmarks_list = detection_result.hand_landmarks\n",
        "  handedness_list = detection_result.handedness\n",
        "  annotated_image = np.copy(rgb_image)\n",
        "\n",
        "\n",
        "  # Loop through the detected hands to visualize.\n",
        "  for idx in range(len(hand_landmarks_list)):\n",
        "    hand_landmarks = hand_landmarks_list[idx]\n",
        "    handedness = handedness_list[idx]\n",
        "\n",
        "    # Draw the hand landmarks.\n",
        "    hand_landmarks_proto = landmark_pb2.NormalizedLandmarkList()\n",
        "    hand_landmarks_proto.landmark.extend([\n",
        "      landmark_pb2.NormalizedLandmark(x=landmark.x, y=landmark.y, z=landmark.z) for landmark in hand_landmarks\n",
        "    ])\n",
        "    solutions.drawing_utils.draw_landmarks(\n",
        "      annotated_image,\n",
        "      hand_landmarks_proto,\n",
        "      solutions.hands.HAND_CONNECTIONS,\n",
        "      solutions.drawing_styles.get_default_hand_landmarks_style(),\n",
        "      solutions.drawing_styles.get_default_hand_connections_style())\n",
        "\n",
        "    # Get the top left corner of the detected hand's bounding box.\n",
        "    height, width, _ = annotated_image.shape\n",
        "    x_coordinates = [landmark.x for landmark in hand_landmarks]\n",
        "    y_coordinates = [landmark.y for landmark in hand_landmarks]\n",
        "    text_x = int(min(x_coordinates) * width)\n",
        "    text_y = int(min(y_coordinates) * height) - MARGIN\n",
        "\n",
        "    # Draw handedness (left or right hand) on the image.\n",
        "    cv2.putText(annotated_image, f\"{handedness[0].category_name}\",\n",
        "                (text_x, text_y), cv2.FONT_HERSHEY_DUPLEX,\n",
        "                FONT_SIZE, HANDEDNESS_TEXT_COLOR, FONT_THICKNESS, cv2.LINE_AA)\n",
        "\n",
        "  return annotated_image"
      ],
      "metadata": {
        "id": "2agjggXQFSCt"
      },
      "execution_count": null,
      "outputs": []
    },
    {
      "cell_type": "markdown",
      "source": [
        "Description: Uploading / Collecting images to process"
      ],
      "metadata": {
        "id": "KruAi6bLZvnR"
      }
    },
    {
      "cell_type": "code",
      "source": [
        "# #Import libraries\n",
        "# import cv2 #OpenCV library that processes images and videos\n",
        "# from google.colab.patches import cv2_imshow #allows cv2 to work in colab\n",
        "\n",
        "# '''\n",
        "# # Code for uploading an image manually\n",
        "# from google.colab import files\n",
        "\n",
        "# uploaded = files.upload()\n",
        "\n",
        "# for filename in uploaded:\n",
        "#   content = uploaded[filename]\n",
        "#   with open(filename, 'wb') as f:\n",
        "#     f.write(content)\n",
        "\n",
        "# if len(uploaded.keys()):\n",
        "#   IMAGE_FILE = next(iter(uploaded))\n",
        "#   print('Uploaded file:', IMAGE_FILE)\n",
        "# '''\n",
        "\n",
        "# # img = cv2.imread(IMAGE_FILE)\n",
        "# # cv2_imshow(img)\n"
      ],
      "metadata": {
        "collapsed": true,
        "id": "61Q-4YF3GUTm"
      },
      "execution_count": null,
      "outputs": []
    },
    {
      "cell_type": "code",
      "source": [
        "#Import libraries\n",
        "import cv2 #OpenCV library that processes images and videos\n",
        "from google.colab.patches import cv2_imshow #allows cv2 to work in colab\n",
        "import mediapipe as mp\n",
        "from mediapipe.tasks import python\n",
        "from mediapipe.tasks.python import vision\n",
        "# import google.colab as files\n",
        "\n",
        "def main():\n",
        "\n",
        "  # STEP 1: Take the photo and save it\n",
        "  filename = take_photo()\n",
        "  print('Saved to {}'.format(filename))\n",
        "\n",
        "  '''\n",
        "  Uncomment this code to upload an image from computer and uncomment the\n",
        "  files library from google.colab and change\n",
        "  '''\n",
        "  # uploaded = files.upload()\n",
        "\n",
        "  # for imageName in uploaded:\n",
        "  #   content = uploaded[imageName]\n",
        "  #   with open(imageName, 'wb') as f:\n",
        "  #     f.write(content)\n",
        "\n",
        "  # if len(uploaded.keys()):\n",
        "  #   filename = next(iter(uploaded))\n",
        "  #   print('Uploaded file:', filename)\n",
        "\n",
        "  # # prints the image you uploaded\n",
        "  # img = cv2.imread(filename)\n",
        "  # cv2_imshow(img)\n",
        "\n",
        "  # STEP 2: Create an HandLandmarker object.\n",
        "  base_options = python.BaseOptions(model_asset_path='hand_landmarker.task')\n",
        "  options = vision.HandLandmarkerOptions(base_options=base_options,\n",
        "                                       num_hands=2)\n",
        "  detector = vision.HandLandmarker.create_from_options(options)\n",
        "\n",
        "  # STEP 3: Load the input image.\n",
        "  image = mp.Image.create_from_file(filename)\n",
        "\n",
        "  # STEP 4: Detect hand landmarks from the input image.\n",
        "  detection_result = detector.detect(image)\n",
        "\n",
        "  # STEP 5: Process the classification result. In this case, visualize it.\n",
        "  annotated_image = draw_landmarks_on_image(image.numpy_view(), detection_result)\n",
        "  cv2_imshow(cv2.cvtColor(annotated_image, cv2.COLOR_RGB2BGR))\n"
      ],
      "metadata": {
        "id": "4R4BFxJYbNGE"
      },
      "execution_count": null,
      "outputs": []
    },
    {
      "cell_type": "code",
      "source": [
        "main()"
      ],
      "metadata": {
        "id": "ulNQrMOqcgx5"
      },
      "execution_count": null,
      "outputs": []
    }
  ]
}